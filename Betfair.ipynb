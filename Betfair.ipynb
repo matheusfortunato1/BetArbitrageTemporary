{
 "cells": [
  {
   "cell_type": "code",
   "execution_count": 12,
   "metadata": {},
   "outputs": [],
   "source": [
    "import datetime\n",
    "\n",
    "import time\n",
    "\n",
    "from selenium import webdriver\n",
    "from bs4 import BeautifulSoup\n",
    "\n",
    "from datetime import datetime\n",
    "\n",
    "from mechanize import Browser"
   ]
  },
  {
   "cell_type": "code",
   "execution_count": 13,
   "metadata": {},
   "outputs": [],
   "source": [
    "import time"
   ]
  },
  {
   "cell_type": "code",
   "execution_count": 2,
   "metadata": {},
   "outputs": [],
   "source": [
    "br = Browser()"
   ]
  },
  {
   "cell_type": "code",
   "execution_count": 5,
   "metadata": {},
   "outputs": [],
   "source": [
    "time = datetime.now().strftime('%Y-%m-%d %H:%M:%S')\n",
    "page_content = br.open(url).read()\n",
    "page = BeautifulSoup(page_content,\"lxml\")\n",
    "page = page.find_all('div', class_='content-multipick')\n",
    "page = page[0].find_all('div', class_='details-market market-3-runners')"
   ]
  },
  {
   "cell_type": "code",
   "execution_count": 14,
   "metadata": {},
   "outputs": [],
   "source": [
    "url = 'https://www.betfair.com/sport/football/brasil-serie-a/13'"
   ]
  },
  {
   "cell_type": "code",
   "execution_count": 15,
   "metadata": {},
   "outputs": [],
   "source": [
    "class BetFair():\n",
    "    \n",
    "    \n",
    "    def __init__(self, url, filename, sample_time, n_attempts=2):\n",
    "        self.filename = filename\n",
    "        self.sample_time = sample_time\n",
    "        self.n_attempts = n_attempts\n",
    "        sleep_time = 5\n",
    "        self.url = url\n",
    "        self.br = Browser()\n",
    "        \n",
    "        while(True):\n",
    "            attempt = 0\n",
    "            for attempt in range(n_attempts):\n",
    "                try:\n",
    "                    self._load_page()\n",
    "                    self.write_games_odds()\n",
    "                    break\n",
    "                except:\n",
    "                    print('Erro!')\n",
    "                    time.sleep(sleep_time)\n",
    "            \n",
    "            time.sleep(self.sample_time-attempt*sleep_time)\n",
    "            \n",
    "        \n",
    "    def _load_page(self):\n",
    "        self.time = datetime.now().strftime('%Y-%m-%d %H:%M:%S')\n",
    "        page_content = self.br.open(self.url).read()\n",
    "        page = BeautifulSoup(page_content,\"lxml\")\n",
    "        page = page.find_all('div', class_='content-multipick')\n",
    "        self.page = page[0].find_all('div', class_='details-market market-3-runners')\n",
    "        \n",
    "    def _get_games_odds(self, pg):\n",
    "        \n",
    "        #TODO: tirar a porra desse slice \n",
    "        start = str(pg.find_all('a')[0]).find('data-galabel')\n",
    "        end = str(pg.find_all('a')[0]).find('data-loader')\n",
    "        teams = str(pg.find_all('a')[0])[start+14:end-11].split(' x ')\n",
    "        team1 = teams[0]\n",
    "        team2 = teams[1]\n",
    "\n",
    "        x1 = str(pg.find_all('a')[1].find().get_text().replace('\\n', ''))\n",
    "        x2 = str(pg.find_all('a')[2].find().get_text().replace('\\n', ''))\n",
    "        x3 = str(pg.find_all('a')[3].find().get_text().replace('\\n', ''))\n",
    "\n",
    "        return [team1, team2, x1, x2, x3]\n",
    "        \n",
    "    def write_games_odds(self):\n",
    "        for pg in self.page:\n",
    "            self._write_file(self._get_games_odds(pg))\n",
    "\n",
    "    def _write_file(self, line):\n",
    "        try:\n",
    "            with open(self.filename, \"a\") as f:\n",
    "                f.write('\\n'+self.time)\n",
    "                for x in line:\n",
    "                    f.write(';'+ x)\n",
    "        except:\n",
    "            print('Criando arquivo: ' + self.filename)\n",
    "            with open(self.filename, \"w\") as f:\n",
    "                f.write('\\n'+self.time)\n",
    "                for x in line:\n",
    "                    f.write(';'+ x)"
   ]
  },
  {
   "cell_type": "code",
   "execution_count": 17,
   "metadata": {},
   "outputs": [
    {
     "ename": "KeyboardInterrupt",
     "evalue": "",
     "output_type": "error",
     "traceback": [
      "\u001b[1;31m---------------------------------------------------------------------------\u001b[0m",
      "\u001b[1;31mKeyboardInterrupt\u001b[0m                         Traceback (most recent call last)",
      "\u001b[1;32m<ipython-input-17-9acc77b63f3f>\u001b[0m in \u001b[0;36m<module>\u001b[1;34m\u001b[0m\n\u001b[1;32m----> 1\u001b[1;33m \u001b[0mBetFair\u001b[0m\u001b[1;33m(\u001b[0m\u001b[0murl\u001b[0m\u001b[1;33m,\u001b[0m \u001b[1;34m'betfair20201130.txt'\u001b[0m\u001b[1;33m,\u001b[0m \u001b[1;36m45\u001b[0m\u001b[1;33m)\u001b[0m\u001b[1;33m\u001b[0m\u001b[1;33m\u001b[0m\u001b[0m\n\u001b[0m",
      "\u001b[1;32m<ipython-input-15-fc49cdc73626>\u001b[0m in \u001b[0;36m__init__\u001b[1;34m(self, url, filename, sample_time, n_attempts)\u001b[0m\n\u001b[0;32m     21\u001b[0m                     \u001b[0mtime\u001b[0m\u001b[1;33m.\u001b[0m\u001b[0msleep\u001b[0m\u001b[1;33m(\u001b[0m\u001b[0msleep_time\u001b[0m\u001b[1;33m)\u001b[0m\u001b[1;33m\u001b[0m\u001b[1;33m\u001b[0m\u001b[0m\n\u001b[0;32m     22\u001b[0m \u001b[1;33m\u001b[0m\u001b[0m\n\u001b[1;32m---> 23\u001b[1;33m             \u001b[0mtime\u001b[0m\u001b[1;33m.\u001b[0m\u001b[0msleep\u001b[0m\u001b[1;33m(\u001b[0m\u001b[0mself\u001b[0m\u001b[1;33m.\u001b[0m\u001b[0msample_time\u001b[0m\u001b[1;33m-\u001b[0m\u001b[0mattempt\u001b[0m\u001b[1;33m*\u001b[0m\u001b[0msleep_time\u001b[0m\u001b[1;33m)\u001b[0m\u001b[1;33m\u001b[0m\u001b[1;33m\u001b[0m\u001b[0m\n\u001b[0m\u001b[0;32m     24\u001b[0m \u001b[1;33m\u001b[0m\u001b[0m\n\u001b[0;32m     25\u001b[0m \u001b[1;33m\u001b[0m\u001b[0m\n",
      "\u001b[1;31mKeyboardInterrupt\u001b[0m: "
     ]
    }
   ],
   "source": [
    "BetFair(url, 'betfair20201130.txt', 45)"
   ]
  },
  {
   "cell_type": "code",
   "execution_count": null,
   "metadata": {},
   "outputs": [],
   "source": []
  }
 ],
 "metadata": {
  "kernelspec": {
   "display_name": "Python 3",
   "language": "python",
   "name": "python3"
  },
  "language_info": {
   "codemirror_mode": {
    "name": "ipython",
    "version": 3
   },
   "file_extension": ".py",
   "mimetype": "text/x-python",
   "name": "python",
   "nbconvert_exporter": "python",
   "pygments_lexer": "ipython3",
   "version": "3.7.3"
  }
 },
 "nbformat": 4,
 "nbformat_minor": 2
}
