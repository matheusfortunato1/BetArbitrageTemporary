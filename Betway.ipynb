{
 "cells": [
  {
   "cell_type": "code",
   "execution_count": 2,
   "metadata": {},
   "outputs": [],
   "source": [
    "import datetime\n",
    "\n",
    "import time\n",
    "\n",
    "from selenium import webdriver\n",
    "from bs4 import BeautifulSoup\n",
    "\n",
    "from datetime import datetime"
   ]
  },
  {
   "cell_type": "code",
   "execution_count": 3,
   "metadata": {},
   "outputs": [],
   "source": [
    "class Betway():\n",
    "    \n",
    "    \n",
    "    def __init__(self, url, filename, sample_time, n_attempts=2):\n",
    "        self.filename = filename\n",
    "        self.sample_time = sample_time\n",
    "        self.n_attempts = n_attempts\n",
    "        self.sleep_time = sample_time/5\n",
    "        self.url = url\n",
    "        self.driver = self._init_chromium_driver()\n",
    "        \n",
    "#         self._load_page()\n",
    "        while(True):\n",
    "            attempt = 0\n",
    "            for attempt in range(n_attempts):\n",
    "                try:\n",
    "                    self._load_page()\n",
    "                    print('Página carregou')\n",
    "                    self.write_games_odds()\n",
    "                    print('Foi escrito')\n",
    "                    break\n",
    "                except:\n",
    "                    print('Erro!')\n",
    "                    time.sleep(self.sleep_time)\n",
    "            \n",
    "            time.sleep(0.5*self.sample_time-attempt*self.sleep_time)\n",
    "            \n",
    "    def _init_chromium_driver(self):\n",
    "        options = webdriver.ChromeOptions()\n",
    "        options.add_argument('--ignore-certificate-errors')\n",
    "        options.add_argument('--incognito')\n",
    "        options.add_argument('--headless')\n",
    "        return webdriver.Chrome(\"/Users/Matheus/Documents/chromedriver\", options=options)\n",
    "            \n",
    "    def _load_page(self):\n",
    "        print('start...' + datetime.now().strftime('%Y-%m-%d %H:%M:%S'))\n",
    "        self.time = datetime.now().strftime('%Y-%m-%d %H:%M:%S')\n",
    "        self.driver.get(self.url)\n",
    "        time.sleep(self.sleep_time)\n",
    "        print('Get url ok ')\n",
    "        # Fucking sleep cause shit download speed\n",
    "        page_source = self.driver.page_source\n",
    "        time.sleep(self.sleep_time)\n",
    "        self.page = BeautifulSoup(page_source, \"lxml\")\n",
    "        \n",
    "    def _write_odds(self):\n",
    "        with open(self.filename, \"a\") as f:\n",
    "            for pg in self.page.find_all('div', class_='odds')[1:]:\n",
    "                f.write(str(pg.getText())+';')\n",
    "            f.write('\\n')\n",
    "    \n",
    "    def _write_teams(self):\n",
    "        with open(self.filename, \"a\") as f:\n",
    "            print('Entrou em write teams')\n",
    "            f.write(self.time+';')\n",
    "            for pg in self.page.find_all('span', class_='teamNameEllipsisContainer'):\n",
    "                print(str(pg.find('span').getText())+';')\n",
    "                f.write(str(pg.find('span').getText())+';')\n",
    "            \n",
    "    def write_games_odds(self):\n",
    "        self._write_teams()\n",
    "        self._write_odds()"
   ]
  },
  {
   "cell_type": "code",
   "execution_count": 6,
   "metadata": {},
   "outputs": [
    {
     "name": "stdout",
     "output_type": "stream",
     "text": [
      "start...2020-11-30 21:56:46\n",
      "Get url ok \n",
      "Página carregou\n",
      "Entrou em write teams\n",
      "Estudiantes;\n",
      "San Lorenzo;\n",
      "Tigres;\n",
      "Pachuca;\n",
      "Union Magdalena;\n",
      "Atletico Huila;\n",
      "Lokomotiv Moscow;\n",
      "Red Bull Salzburg;\n",
      "Shakhtar Donetsk;\n",
      "Real Madrid;\n",
      "Atalanta;\n",
      "FC Midtjylland;\n",
      "Atlético de Madrid;\n",
      "Bayern de Munique;\n",
      "Borussia Mönchengladbach;\n",
      "Inter de Milão;\n",
      "Liverpool;\n",
      "Ajax;\n",
      "Porto;\n",
      "Manchester City;\n",
      "Foi escrito\n"
     ]
    },
    {
     "ename": "KeyboardInterrupt",
     "evalue": "",
     "output_type": "error",
     "traceback": [
      "\u001b[1;31m---------------------------------------------------------------------------\u001b[0m",
      "\u001b[1;31mKeyboardInterrupt\u001b[0m                         Traceback (most recent call last)",
      "\u001b[1;32m<ipython-input-6-d2fe1afa75aa>\u001b[0m in \u001b[0;36m<module>\u001b[1;34m\u001b[0m\n\u001b[1;32m----> 1\u001b[1;33m \u001b[0mSportingBet\u001b[0m\u001b[1;33m(\u001b[0m\u001b[0murl\u001b[0m\u001b[1;33m,\u001b[0m \u001b[1;34m'sportingbet20201130.txt'\u001b[0m\u001b[1;33m,\u001b[0m \u001b[1;36m60\u001b[0m\u001b[1;33m)\u001b[0m\u001b[1;33m\u001b[0m\u001b[1;33m\u001b[0m\u001b[0m\n\u001b[0m",
      "\u001b[1;32m<ipython-input-5-1de12f68e7ea>\u001b[0m in \u001b[0;36m__init__\u001b[1;34m(self, url, filename, sample_time, n_attempts)\u001b[0m\n\u001b[0;32m     24\u001b[0m                     \u001b[0mtime\u001b[0m\u001b[1;33m.\u001b[0m\u001b[0msleep\u001b[0m\u001b[1;33m(\u001b[0m\u001b[0mself\u001b[0m\u001b[1;33m.\u001b[0m\u001b[0msleep_time\u001b[0m\u001b[1;33m)\u001b[0m\u001b[1;33m\u001b[0m\u001b[1;33m\u001b[0m\u001b[0m\n\u001b[0;32m     25\u001b[0m \u001b[1;33m\u001b[0m\u001b[0m\n\u001b[1;32m---> 26\u001b[1;33m             \u001b[0mtime\u001b[0m\u001b[1;33m.\u001b[0m\u001b[0msleep\u001b[0m\u001b[1;33m(\u001b[0m\u001b[1;36m0.5\u001b[0m\u001b[1;33m*\u001b[0m\u001b[0mself\u001b[0m\u001b[1;33m.\u001b[0m\u001b[0msample_time\u001b[0m\u001b[1;33m-\u001b[0m\u001b[0mattempt\u001b[0m\u001b[1;33m*\u001b[0m\u001b[0mself\u001b[0m\u001b[1;33m.\u001b[0m\u001b[0msleep_time\u001b[0m\u001b[1;33m)\u001b[0m\u001b[1;33m\u001b[0m\u001b[1;33m\u001b[0m\u001b[0m\n\u001b[0m\u001b[0;32m     27\u001b[0m \u001b[1;33m\u001b[0m\u001b[0m\n\u001b[0;32m     28\u001b[0m     \u001b[1;32mdef\u001b[0m \u001b[0m_init_chromium_driver\u001b[0m\u001b[1;33m(\u001b[0m\u001b[0mself\u001b[0m\u001b[1;33m)\u001b[0m\u001b[1;33m:\u001b[0m\u001b[1;33m\u001b[0m\u001b[1;33m\u001b[0m\u001b[0m\n",
      "\u001b[1;31mKeyboardInterrupt\u001b[0m: "
     ]
    }
   ],
   "source": [
    "Betway('https://sports.betway.com/pt/sports/grp/soccer/brazil/brasileiro-serie-a', 'betway20201130.txt', 60)"
   ]
  }
 ],
 "metadata": {
  "kernelspec": {
   "display_name": "Python 3",
   "language": "python",
   "name": "python3"
  },
  "language_info": {
   "codemirror_mode": {
    "name": "ipython",
    "version": 3
   },
   "file_extension": ".py",
   "mimetype": "text/x-python",
   "name": "python",
   "nbconvert_exporter": "python",
   "pygments_lexer": "ipython3",
   "version": "3.7.3"
  }
 },
 "nbformat": 4,
 "nbformat_minor": 2
}
