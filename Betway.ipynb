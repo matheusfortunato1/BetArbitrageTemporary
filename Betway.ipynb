{
 "cells": [
  {
   "cell_type": "code",
   "execution_count": 1,
   "metadata": {},
   "outputs": [],
   "source": [
    "import datetime\n",
    "\n",
    "import time\n",
    "\n",
    "from selenium import webdriver\n",
    "from bs4 import BeautifulSoup\n",
    "\n",
    "from datetime import datetime"
   ]
  },
  {
   "cell_type": "code",
   "execution_count": 4,
   "metadata": {},
   "outputs": [],
   "source": [
    "import datetime\n",
    "import time\n",
    "from selenium import webdriver\n",
    "from bs4 import BeautifulSoup\n",
    "from datetime import datetime\n",
    "\n",
    "class Betway():\n",
    "    \n",
    "    \n",
    "    def __init__(self, url, filename, sample_time, n_attempts=2):\n",
    "        self.filename = filename\n",
    "        self.sample_time = sample_time\n",
    "        self.n_attempts = n_attempts\n",
    "        self.sleep_time = sample_time/5\n",
    "        self.url = url\n",
    "        self.driver = self._init_chromium_driver()\n",
    "        \n",
    "#         self._load_page()\n",
    "        while(True):\n",
    "            attempt = 0\n",
    "            for attempt in range(n_attempts):\n",
    "                try:\n",
    "                    self._load_page()\n",
    "                    print('Página carregou')\n",
    "                    self.write_games_odds()\n",
    "                    print('Foi escrito')\n",
    "                    break\n",
    "                except:\n",
    "                    print('Erro!')\n",
    "                    time.sleep(self.sleep_time)\n",
    "            \n",
    "            time.sleep(0.5*self.sample_time-attempt*self.sleep_time)\n",
    "            \n",
    "    def _init_chromium_driver(self):\n",
    "        options = webdriver.ChromeOptions()\n",
    "        options.add_argument('--ignore-certificate-errors')\n",
    "        options.add_argument('--incognito')\n",
    "        options.add_argument('--headless')\n",
    "        return webdriver.Chrome(\"/Users/Matheus/Documents/chromedriver\", options=options)\n",
    "              \n",
    "\n",
    "    def _load_page(self):\n",
    "        print('start...' + datetime.now().strftime('%Y-%m-%d %H:%M:%S'))\n",
    "        self.time = datetime.now().strftime('%Y-%m-%d %H:%M:%S')\n",
    "        self.driver.get(self.url)\n",
    "        time.sleep(self.sleep_time)\n",
    "        print('Get url ok ')\n",
    "        # Fucking sleep cause shit download speed\n",
    "        page_source = self.driver.page_source\n",
    "        time.sleep(self.sleep_time)\n",
    "        self.page = BeautifulSoup(page_source, \"lxml\")\n",
    "        \n",
    "    def _write_odds(self):\n",
    "        with open(self.filename, \"a\") as f:\n",
    "            for pg in self.page.find_all('div', class_='odds')[1:]:\n",
    "                f.write(str(pg.getText())+';')\n",
    "            f.write('\\n')\n",
    "    \n",
    "    def _write_teams(self):\n",
    "        with open(self.filename, \"a\") as f:\n",
    "            print('Entrou em write teams')\n",
    "            f.write(self.time+';')\n",
    "            for pg in self.page.find_all('span', class_='teamNameEllipsisContainer'):\n",
    "                print(str(pg.find('span').getText())+';')\n",
    "                f.write(str(pg.find('span').getText())+';')\n",
    "            \n",
    "    def write_games_odds(self):\n",
    "        self._write_teams()\n",
    "        self._write_odds()"
   ]
  },
  {
   "cell_type": "code",
   "execution_count": null,
   "metadata": {},
   "outputs": [
    {
     "name": "stdout",
     "output_type": "stream",
     "text": [
      "start...2020-12-02 02:18:09\n",
      "Get url ok \n",
      "Página carregou\n",
      "Entrou em write teams\n",
      "FC Krasnodar;\n",
      "Stade Rennes;\n",
      "Istanbul Başakşehir;\n",
      "Erro!\n",
      "start...2020-12-02 02:19:00\n",
      "Get url ok \n",
      "Erro!\n"
     ]
    }
   ],
   "source": [
    "TODAY_STR = datetime.now().strftime('%Y%m%d')\n",
    "Betway('https://sports.betway.com/pt/sports/grp/soccer/european-cups/uefa-champions-league', \n",
    "       'betway{}champions_pc.txt'.format(TODAY_STR), \n",
    "        80)\n",
    "\n"
   ]
  }
 ],
 "metadata": {
  "kernelspec": {
   "display_name": "Python 3",
   "language": "python",
   "name": "python3"
  },
  "language_info": {
   "codemirror_mode": {
    "name": "ipython",
    "version": 3
   },
   "file_extension": ".py",
   "mimetype": "text/x-python",
   "name": "python",
   "nbconvert_exporter": "python",
   "pygments_lexer": "ipython3",
   "version": "3.7.3"
  }
 },
 "nbformat": 4,
 "nbformat_minor": 2
}
